{
 "cells": [
  {
   "cell_type": "code",
   "execution_count": null,
   "metadata": {},
   "outputs": [],
   "source": [
    "import pandas as pd\n",
    "from sklearn.utils import shuffle\n",
    "from sklearn.model_selection import train_test_split\n",
    "\n",
    "CSV_PATH = \"C:\\TCC\\Base\\merged_data.csv\"\n",
    "\n",
    "\n",
    "data = pd.read_csv(CSV_PATH, sep='|', usecols=[\"text\",\"category\",\"label\"])\n",
    "data[\"text\"] = data[\"text\"].str.replace('\\n', ' ').replace('\\t', ' ').replace('   ', ' ').replace('  ', ' ')\n",
    "data = shuffle(data).reset_index(drop=True)\n",
    "\n",
    "original_label_dtype = data['label'].dtype\n",
    "data['label'] = data['label'].astype(str)\n",
    "\n",
    "data['stratify_col'] = data['category'] + '-' + data['label']"
   ]
  },
  {
   "cell_type": "code",
   "execution_count": null,
   "metadata": {},
   "outputs": [],
   "source": [
    "display (data['category'].unique())"
   ]
  },
  {
   "cell_type": "code",
   "execution_count": null,
   "metadata": {},
   "outputs": [],
   "source": [
    "import pandas as pd\n",
    "from sklearn.utils import shuffle\n",
    "from sklearn.model_selection import train_test_split\n",
    "\n",
    "CSV_PATH = \"C:\\TCC\\Base\\merged_data.csv\"\n",
    "\n",
    "\n",
    "data = pd.read_csv(CSV_PATH, sep='|', usecols=[\"text\",\"category\",\"label\"])\n",
    "data[\"text\"] = data[\"text\"].str.replace('\\n', ' ').replace('\\t', ' ').replace('   ', ' ').replace('  ', ' ')\n",
    "data = shuffle(data).reset_index(drop=True)\n",
    "\n",
    "original_label_dtype = data['label'].dtype\n",
    "data['label'] = data['label'].astype(str)\n",
    "\n",
    "data['stratify_col'] = data['category'] + '-' + data['label']\n",
    "\n",
    "data.drop('category', axis=1, inplace=True)\n",
    "data['label'] = data['label'].astype(original_label_dtype)\n",
    "\n",
    "\n",
    "train_data, temp_data = train_test_split(data, test_size=0.4, stratify=data['stratify_col'], random_state=42)\n",
    "validate_data, test_data = train_test_split(temp_data, test_size=0.5, stratify=temp_data['stratify_col'], random_state=42)\n",
    "\n",
    "train_data.drop('stratify_col', axis=1, inplace=True)\n",
    "validate_data.drop('stratify_col', axis=1, inplace=True)\n",
    "test_data.drop('stratify_col', axis=1, inplace=True)\n",
    "\n",
    "\n",
    "train_data.to_csv(\"train_data.csv\", sep='|', index=False)\n",
    "validate_data.to_csv(\"validate_data.csv\", sep='|', index=False)\n",
    "test_data.to_csv(\"test_data.csv\", sep='|', index=False)\n",
    "\n",
    "print(\"DataFrames saved to CSV files:\")\n",
    "print(\"Training data saved to: train_data.csv\")\n",
    "print(\"Validation data saved to: validate_data.csv\")\n",
    "print(\"Testing data saved to: test_data.csv\")"
   ]
  },
  {
   "cell_type": "code",
   "execution_count": null,
   "metadata": {},
   "outputs": [],
   "source": [
    "display(test_data)"
   ]
  },
  {
   "cell_type": "code",
   "execution_count": null,
   "metadata": {},
   "outputs": [],
   "source": []
  }
 ],
 "metadata": {
  "kernelspec": {
   "display_name": "Python 3",
   "language": "python",
   "name": "python3"
  },
  "language_info": {
   "codemirror_mode": {
    "name": "ipython",
    "version": 3
   },
   "file_extension": ".py",
   "mimetype": "text/x-python",
   "name": "python",
   "nbconvert_exporter": "python",
   "pygments_lexer": "ipython3",
   "version": "3.11.3"
  },
  "orig_nbformat": 4
 },
 "nbformat": 4,
 "nbformat_minor": 2
}
